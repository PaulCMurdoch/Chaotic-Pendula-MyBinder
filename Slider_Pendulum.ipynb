{
 "cells": [
  {
   "cell_type": "code",
   "execution_count": 1,
   "id": "130f5f1c",
   "metadata": {},
   "outputs": [],
   "source": [
    "import ipywidgets as widgets\n",
    "from math import *\n",
    "from scipy import *\n",
    "import numpy as np\n",
    "import matplotlib.pyplot as plt"
   ]
  },
  {
   "cell_type": "code",
   "execution_count": 2,
   "id": "8125d40d",
   "metadata": {},
   "outputs": [
    {
     "data": {
      "application/vnd.jupyter.widget-view+json": {
       "model_id": "4d4196cf70534ccb8ba3cc284057debe",
       "version_major": 2,
       "version_minor": 0
      },
      "text/plain": [
       "FloatSlider(value=5.0, description='Slider:', max=10.0, min=-10.0)"
      ]
     },
     "metadata": {},
     "output_type": "display_data"
    }
   ],
   "source": [
    "widgets.FloatSlider(\n",
    "    min=-10,\n",
    "    max=10,\n",
    "    step=0.1,\n",
    "    description='Slider:',\n",
    "    value=5\n",
    ")"
   ]
  },
  {
   "cell_type": "code",
   "execution_count": 5,
   "id": "02c0df29",
   "metadata": {},
   "outputs": [
    {
     "data": {
      "application/vnd.jupyter.widget-view+json": {
       "model_id": "ff442974e9ef437ebabae258eae11f22",
       "version_major": 2,
       "version_minor": 0
      },
      "text/plain": [
       "interactive(children=(IntSlider(value=4100, description='Data Points:', max=10100, min=100, step=1000), IntSli…"
      ]
     },
     "metadata": {},
     "output_type": "display_data"
    },
    {
     "data": {
      "text/plain": [
       "<function __main__.create_graph(points, angle, ang_vel, damp, drive, freq, time_step)>"
      ]
     },
     "execution_count": 5,
     "metadata": {},
     "output_type": "execute_result"
    }
   ],
   "source": [
    "slid_data_points = widgets.IntSlider(\n",
    "    min=100,\n",
    "    max=10100,\n",
    "    step=1000,\n",
    "    description='Data Points:',\n",
    "    value=4100\n",
    ")\n",
    "\n",
    "slid_angle = widgets.IntSlider(\n",
    "    min=-720,\n",
    "    max=720,\n",
    "    step=1,\n",
    "    description='Angle:',\n",
    "    value=180\n",
    ")\n",
    "\n",
    "slid_angle_vel = widgets.IntSlider(\n",
    "    min=-720,\n",
    "    max=720,\n",
    "    step=1,\n",
    "    description='Angle Vel.:',\n",
    "    value=5\n",
    ")\n",
    "\n",
    "slid_damping_force = widgets.FloatSlider(\n",
    "    min=0,\n",
    "    max=2,\n",
    "    step=0.01,\n",
    "    description='Damp:',\n",
    "    value=0.05\n",
    ")\n",
    "\n",
    "slid_driving_force = widgets.FloatSlider(\n",
    "    min=-1,\n",
    "    max=1,\n",
    "    step=0.01,\n",
    "    description='Drive:',\n",
    "    value=0.05\n",
    ")\n",
    "\n",
    "slid_frequency = widgets.FloatSlider(\n",
    "    min=-1,\n",
    "    max=1,\n",
    "    step=0.01,\n",
    "    description='Freq:',\n",
    "    value=1/3\n",
    ")\n",
    "slid_dt = widgets.FloatSlider(\n",
    "    min=0,\n",
    "    max=1,\n",
    "    step=0.01,\n",
    "    description='Time Step:',\n",
    "    value=0.05\n",
    ")\n",
    "\n",
    "\n",
    "def create_graph(points,angle,ang_vel,damp,drive,freq,time_step):\n",
    "    #From Simulation and Visualization of Chaos in a Driven Nonlinear Pendulum \n",
    "    #– An Aid to Introducing Chaotic Systems in Physics by Louis Ehwerhemuepha and Godfrey E. Akpojotor\n",
    "    #With modifications to constants and updates to compile without error\n",
    "\n",
    "    #Initial theta values\n",
    "    theta0 = angle *2*pi/360\n",
    "    omega0 = ang_vel*2*pi/360\n",
    "\n",
    "    #Constants\n",
    "    length_of_string = 9.8\n",
    "    gravity = 9.8\n",
    "    drive_frequency = freq\n",
    "    damping_force = damp\n",
    "\n",
    "    #Defining the driving force - controls the chaos\n",
    "    FD = drive\n",
    "\n",
    "    #Assigning the number of data points to be considered\n",
    "    data_points = points\n",
    "\n",
    "    #Preallocating space for time, theta and omega\n",
    "    time = np.zeros(data_points)\n",
    "    theta = np.zeros(data_points)\n",
    "    omega = np.zeros(data_points)\n",
    "\n",
    "    #Initializing theta and omega\n",
    "    theta[0] = theta0\n",
    "    omega[0] = omega0\n",
    "\n",
    "    #Defining time step size\n",
    "    dt = time_step\n",
    "\n",
    "    for i in range(0,data_points - 1):\n",
    "         time[i+1] = time[i] + dt\n",
    "\n",
    "         #Calculating for FD = 0, 0.1... in omegas\n",
    "         omega[i+1] = omega[i] - (gravity/length_of_string)*np.sin(theta[i])*dt - (damping_force*omega[i]*dt +FD*np.sin(drive_frequency*time[i])*dt)\n",
    "         theta[i+1] = theta[i] + omega[i+1]*dt\n",
    "\n",
    "    plt.plot(time,theta)\n",
    "    plt.ylabel(\"theta\")\n",
    "    plt.xlabel(\"time\")\n",
    "    plt.show()\n",
    "\n",
    "    plt.plot(time,omega)\n",
    "    plt.ylabel(\"omega\")\n",
    "    plt.xlabel(\"time\")\n",
    "    plt.show()\n",
    "widgets.interact(create_graph, points = slid_data_points,angle = slid_angle,ang_vel = slid_angle_vel,damp=slid_damping_force,drive=slid_driving_force,freq=slid_frequency,time_step=slid_dt)\n"
   ]
  }
 ],
 "metadata": {
  "kernelspec": {
   "display_name": "Python 3",
   "language": "python",
   "name": "python3"
  },
  "language_info": {
   "codemirror_mode": {
    "name": "ipython",
    "version": 3
   },
   "file_extension": ".py",
   "mimetype": "text/x-python",
   "name": "python",
   "nbconvert_exporter": "python",
   "pygments_lexer": "ipython3",
   "version": "3.8.10"
  }
 },
 "nbformat": 4,
 "nbformat_minor": 5
}
